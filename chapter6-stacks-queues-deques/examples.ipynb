{
 "cells": [
  {
   "attachments": {},
   "cell_type": "markdown",
   "metadata": {},
   "source": [
    "Make an adapter class for Stack ADT (Abstract Data type)\n"
   ]
  },
  {
   "cell_type": "code",
   "execution_count": 4,
   "metadata": {},
   "outputs": [],
   "source": [
    "class ArrayStack:\n",
    "    ''' LIFO Stack implementation using a python list aas underlying storage'''\n",
    "    \n",
    "    def __init__(self):\n",
    "        print('initialisation')\n",
    "        self._data = []\n",
    "\n",
    "    def __len__(self):\n",
    "        return len(self._data)\n",
    "\n",
    "    def is_empty(self):\n",
    "        return len(self._data) == 0\n",
    "\n",
    "    def push(self, a):\n",
    "        self._data.append(a)\n",
    "\n",
    "    def pop(self):\n",
    "        if self.is_empty():\n",
    "            raise Exception('Stack is empty')\n",
    "        return self._data.pop()\n",
    "\n",
    "    def top(self):\n",
    "        if self.is_empty():\n",
    "            raise Exception('Stack is empty')\n",
    "        return self._data[-1]\n",
    "    \n",
    "\n",
    "\n",
    "\n"
   ]
  },
  {
   "attachments": {},
   "cell_type": "markdown",
   "metadata": {},
   "source": [
    "Reversing Data using a Stack\n"
   ]
  },
  {
   "cell_type": "code",
   "execution_count": 5,
   "metadata": {},
   "outputs": [],
   "source": [
    "def reverse_file(filename):\n",
    "    S = ArrayStack()\n",
    "    original = open(filename)\n",
    "    for line in original:\n",
    "        S.push(line.rstrip('\\n'))\n",
    "    original.close()\n",
    "\n",
    "    output = open('reversed_file.txt', 'w')\n",
    "    while not S.is_empty():\n",
    "        output.write(S.pop() + '\\n')\n",
    "    output.close()\n",
    "                    "
   ]
  },
  {
   "cell_type": "code",
   "execution_count": 6,
   "metadata": {},
   "outputs": [
    {
     "name": "stdout",
     "output_type": "stream",
     "text": [
      "initialisation\n"
     ]
    }
   ],
   "source": [
    "reverse_file('file_for_stack_example.txt')"
   ]
  },
  {
   "attachments": {},
   "cell_type": "markdown",
   "metadata": {},
   "source": [
    "an algorithm for matching delimiters\n"
   ]
  },
  {
   "cell_type": "code",
   "execution_count": 13,
   "metadata": {},
   "outputs": [],
   "source": [
    "def is_matched(expr):\n",
    "\n",
    "    lefty = '({['\n",
    "    righty = ')}]'\n",
    "    S = ArrayStack()\n",
    "    for c in expr:\n",
    "        if c in lefty:\n",
    "            S.push(c)\n",
    "        elif c in righty:\n",
    "            if S.is_empty():\n",
    "                return False\n",
    "            if righty.index(c) != lefty.index(S.pop()):\n",
    "                return False\n",
    "    return S.is_empty()"
   ]
  },
  {
   "cell_type": "code",
   "execution_count": 17,
   "metadata": {},
   "outputs": [
    {
     "name": "stdout",
     "output_type": "stream",
     "text": [
      "initialisation\n",
      "initialisation\n"
     ]
    },
    {
     "data": {
      "text/plain": [
       "(True, False)"
      ]
     },
     "execution_count": 17,
     "metadata": {},
     "output_type": "execute_result"
    }
   ],
   "source": [
    "is_matched('[(5+x)-(y+z)]'), is_matched('[(5+x)-[y+z)]')"
   ]
  },
  {
   "attachments": {},
   "cell_type": "markdown",
   "metadata": {},
   "source": [
    "html document matching \n",
    "check if there are any errors in an html document file\n"
   ]
  },
  {
   "cell_type": "code",
   "execution_count": 28,
   "metadata": {},
   "outputs": [],
   "source": [
    "def is_matched_html(raw):\n",
    "    S = ArrayStack()\n",
    "    j = raw.find('<')\n",
    "    print(j)\n",
    "    while j != -1:\n",
    "        k = raw.find('>', j+1)\n",
    "        if k == -1:\n",
    "            return False\n",
    "        tag = raw[j+1:k]\n",
    "        print(tag)\n",
    "        if not tag.startswith('/'):\n",
    "            S.push(tag)\n",
    "        else:\n",
    "            if S.is_empty():\n",
    "                return False\n",
    "            if tag[1:] != S.pop():\n",
    "                return False\n",
    "        j = raw.find('<', k+1)\n",
    "    return S.is_empty()\n",
    "    "
   ]
  },
  {
   "cell_type": "code",
   "execution_count": 27,
   "metadata": {},
   "outputs": [
    {
     "name": "stdout",
     "output_type": "stream",
     "text": [
      "initialisation\n",
      "0\n",
      "html\n",
      "header\n",
      "/header\n",
      "body\n",
      "/body\n",
      "/html\n",
      "<__main__.ArrayStack object at 0x0000014AE699D670>\n"
     ]
    },
    {
     "data": {
      "text/plain": [
       "True"
      ]
     },
     "execution_count": 27,
     "metadata": {},
     "output_type": "execute_result"
    }
   ],
   "source": [
    "doc = \"<html><header>My header</header> \\\n",
    "<body>This is the body of the html document file</body></html>\"\n",
    "\n",
    "is_matched_html(doc)\n"
   ]
  },
  {
   "attachments": {},
   "cell_type": "markdown",
   "metadata": {},
   "source": [
    "Queues\n",
    "\n",
    "we can use the list implemtation that we did in the stack class implementation but there is a drawback for it.\n",
    "the deque operation that requires to pop the first element, when you pop the first element all the remaining elements have to be shifted to \n",
    "occupy the empty space left. This results in O(n) operation of shifting all elements\n",
    "\n",
    "so it is inefficient to use that implementation\n",
    "\n",
    "one way to to by tackle this is to not shift the elements to fill the gap\n",
    "if we use this approach there is another problem that will lurk in the background. if we keep popping elements from the list and adding/ enqueing new\n",
    "elements at the end of the list, we keep increasing the size of the list. in restuarant waiting list example, even if daily there are max 30 people\n",
    "waiting in the queue our list would have occupied way more space because of all the dequeing operations done previously.\n",
    "\n",
    "\n",
    "So, another way to tackle this is to use #### Circular Arrays\n",
    "\n",
    "\n"
   ]
  },
  {
   "cell_type": "code",
   "execution_count": null,
   "metadata": {},
   "outputs": [],
   "source": [
    "class ArrayQueue:\n",
    "    DEFAULT_CAPACITY = 10\n",
    "\n",
    "    def __init__(self) -> None:\n",
    "\n",
    "        self._data = [None] * ArrayQueue.DEFAULT_CAPACITY\n",
    "        self._size = 0\n",
    "        self._front = 0\n",
    "\n",
    "    def __len__(self):\n",
    "        return self._size\n",
    "\n",
    "    def is_empty(self):\n",
    "        return self._size == 0\n",
    "\n",
    "    def first(self):\n",
    "        if self.is_empty():\n",
    "            raise Exception('Queue is empty')\n",
    "\n",
    "\n",
    "    def dequeue(self):\n",
    "        pass\n",
    "\n",
    "    def enqueue(self):\n",
    "        pass\n",
    "\n",
    "    def _resize(self):\n",
    "        pass"
   ]
  },
  {
   "cell_type": "code",
   "execution_count": null,
   "metadata": {},
   "outputs": [],
   "source": []
  },
  {
   "attachments": {},
   "cell_type": "markdown",
   "metadata": {},
   "source": []
  },
  {
   "attachments": {},
   "cell_type": "markdown",
   "metadata": {},
   "source": []
  },
  {
   "attachments": {},
   "cell_type": "markdown",
   "metadata": {},
   "source": []
  },
  {
   "attachments": {},
   "cell_type": "markdown",
   "metadata": {},
   "source": []
  },
  {
   "attachments": {},
   "cell_type": "markdown",
   "metadata": {},
   "source": []
  },
  {
   "attachments": {},
   "cell_type": "markdown",
   "metadata": {},
   "source": []
  },
  {
   "cell_type": "code",
   "execution_count": 12,
   "metadata": {},
   "outputs": [],
   "source": [
    "from threading import Thread\n",
    "from typing import Any\n",
    "import time\n",
    "\n",
    "\n",
    "class myClassA(Thread):\n",
    "    def __init__(self) -> None:\n",
    "        Thread.__init__(self, group=None)\n",
    "        self.daemon = True\n",
    "        # self.start()\n",
    "    def run(self) -> None:\n",
    "        print('started')\n",
    "        time.sleep(5)\n",
    "        print('A \\n')\n",
    "\n",
    "class myClassB(Thread):\n",
    "    def __init__(self) -> None:\n",
    "        Thread.__init__(self, group=None)\n",
    "        self.daemon = True\n",
    "        self.start()\n",
    "    def run(self) -> None:\n",
    "        time.sleep(5)\n",
    "        print('B \\n')\n"
   ]
  },
  {
   "attachments": {},
   "cell_type": "markdown",
   "metadata": {},
   "source": [
    "\n",
    "thread starts when you use the start method, when you call the start function it triggers the run method.\n",
    "if i have a class that is a thread, i have the option of running that class when i use the start function. \n"
   ]
  },
  {
   "cell_type": "code",
   "execution_count": 16,
   "metadata": {},
   "outputs": [
    {
     "name": "stdout",
     "output_type": "stream",
     "text": [
      "started\n"
     ]
    },
    {
     "name": "stdout",
     "output_type": "stream",
     "text": [
      "B \n",
      "\n",
      "A \n",
      "\n"
     ]
    }
   ],
   "source": [
    "a = myClassA()\n",
    "b = myClassB()\n",
    "\n",
    "time.sleep(3)\n",
    "\n",
    "a.start()\n"
   ]
  }
 ],
 "metadata": {
  "kernelspec": {
   "display_name": "Python 3",
   "language": "python",
   "name": "python3"
  },
  "language_info": {
   "codemirror_mode": {
    "name": "ipython",
    "version": 3
   },
   "file_extension": ".py",
   "mimetype": "text/x-python",
   "name": "python",
   "nbconvert_exporter": "python",
   "pygments_lexer": "ipython3",
   "version": "3.8.10"
  },
  "orig_nbformat": 4
 },
 "nbformat": 4,
 "nbformat_minor": 2
}
