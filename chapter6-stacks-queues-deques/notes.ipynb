{
 "cells": [
  {
   "cell_type": "code",
   "execution_count": null,
   "metadata": {},
   "outputs": [],
   "source": []
  },
  {
   "attachments": {},
   "cell_type": "markdown",
   "metadata": {},
   "source": [
    "Introduction to the Adapter Design Pattern\n",
    "\n",
    "This pattern applies to any context where we want to modify an existing class so that its methods match those of a related, but different class or interface\n"
   ]
  },
  {
   "cell_type": "code",
   "execution_count": 6,
   "metadata": {},
   "outputs": [],
   "source": [
    "'''\n",
    "if i have a class called vehicle and if i want to create another class for \n",
    "a car instead of a vehicle, most of the functions that are presnt in the \n",
    "vehicle class can be used for the truck as both will have very similar properties\n",
    "So lets adapt the vehicle class to make a car class\n",
    "\n",
    "\n",
    "'''\n",
    "class Vehicle:\n",
    "    def __init__(self, max_speed=100, max_tank_capacity=200) -> None:\n",
    "        self.max_speed = max_speed\n",
    "        self.fuel = 0\n",
    "        self.max_tank_capacity = max_tank_capacity\n",
    "        self.speed = 0\n",
    "        print('Initializing the class')\n",
    "\n",
    "    def start_engine(self):\n",
    "        print('Starting the vehicle engine.....')\n",
    "    \n",
    "    def set_acceleration(self, x):\n",
    "        self.speed = x\n",
    "\n",
    "    def fill_tank(self, new_fuel):\n",
    "        if self.fuel + new_fuel >= self.max_tank_capacity:\n",
    "            self.fuel =  self.max_tank_capacity\n",
    "        else:\n",
    "            self.fuel += new_fuel\n",
    "\n",
    "    def get_speed(self):\n",
    "        return self.speed   \n",
    "\n",
    "    def accelerate(self):\n",
    "        print('Accelerating the vehicle')\n",
    "    \n",
    "    def brake(self):\n",
    "        print('Put a break on the vehicle')\n"
   ]
  },
  {
   "cell_type": "code",
   "execution_count": 25,
   "metadata": {},
   "outputs": [],
   "source": [
    "class Car:\n",
    "    def __init__(self, MAX_SPEED, TANK_CAP=100) -> None:\n",
    "        self._car = Vehicle(max_speed=MAX_SPEED, max_tank_capacity=TANK_CAP)\n",
    "    \n",
    "    def fill_car_tank(self, fuel):\n",
    "        self._car.fill_tank(fuel)\n",
    "        print('Filled tank to capacity ', self._car.fuel)\n",
    "    \n",
    "    def check_fuel(self):\n",
    "        return self._car.fuel\n",
    "    \n",
    "    def set_acceleration(self, a):\n",
    "        self._car.set_acceleration(a)\n",
    "    \n",
    "    def check_speed(self):\n",
    "        return self._car.speed\n"
   ]
  },
  {
   "cell_type": "code",
   "execution_count": 26,
   "metadata": {},
   "outputs": [
    {
     "name": "stdout",
     "output_type": "stream",
     "text": [
      "Initializing the class\n",
      "In the beginning the speed of the car is  0\n",
      "We accelerate None\n",
      "Now the speed of the car is 10\n"
     ]
    }
   ],
   "source": [
    "c = Car(MAX_SPEED=50)\n",
    "print('In the beginning the speed of the car is ', c.check_speed())\n",
    "print('We accelerate', c.set_acceleration(10))\n",
    "print('Now the speed of the car is', c.check_speed())\n"
   ]
  },
  {
   "cell_type": "code",
   "execution_count": 30,
   "metadata": {},
   "outputs": [
    {
     "name": "stdout",
     "output_type": "stream",
     "text": [
      "Tank fuel in the car is  100\n",
      "Lets add some fuel to the car\n",
      "Filled tank to capacity  100\n",
      "Tank fuel in the car is  100\n"
     ]
    }
   ],
   "source": [
    "print('Tank fuel in the car is ', c.check_fuel())\n",
    "print('Lets add some fuel to the car')\n",
    "c.fill_car_tank(50)\n",
    "print('Tank fuel in the car is ', c.check_fuel())\n"
   ]
  }
 ],
 "metadata": {
  "kernelspec": {
   "display_name": "Python 3",
   "language": "python",
   "name": "python3"
  },
  "language_info": {
   "codemirror_mode": {
    "name": "ipython",
    "version": 3
   },
   "file_extension": ".py",
   "mimetype": "text/x-python",
   "name": "python",
   "nbconvert_exporter": "python",
   "pygments_lexer": "ipython3",
   "version": "3.8.10"
  },
  "orig_nbformat": 4
 },
 "nbformat": 4,
 "nbformat_minor": 2
}
