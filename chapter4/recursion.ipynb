{
 "cells": [
  {
   "cell_type": "code",
   "execution_count": 17,
   "metadata": {},
   "outputs": [],
   "source": []
  },
  {
   "attachments": {},
   "cell_type": "markdown",
   "metadata": {},
   "source": [
    "Draw a ruler with recursion"
   ]
  },
  {
   "cell_type": "code",
   "execution_count": 84,
   "metadata": {},
   "outputs": [],
   "source": [
    "def draw_line(tick_length, tick_label= ''):\n",
    "    '''Draw one line with given tick length (followed by optional label).'''\n",
    "    line = \"-\" * tick_length\n",
    "    if tick_label:\n",
    "        line += ' ' + tick_label\n",
    "    print(line)\n",
    "\n",
    "def draw_interval(center_length):\n",
    "    '''Draw tick interval based upon a central tick length.'''\n",
    "    if center_length > 0: # stop when length drops to 0\n",
    "        draw_interval(center_length - 1) # recursively draw top ticks\n",
    "        draw_line(center_length) # draw center tick\n",
    "        draw_interval(center_length - 1) # recursively draw bottom ticks\n",
    "   \n",
    "def draw_ruler(num_inches, major_length):\n",
    "    '''Draw English ruler with given number of inches, major tick length.'''\n",
    "    draw_line(major_length, '0' ) # draw inch 0 line\n",
    "    for j in range(1, 1 + num_inches):\n",
    "        draw_interval(major_length - 1) # draw interior ticks for inch\n",
    "        draw_line(major_length, str(j)) # draw inch"
   ]
  },
  {
   "cell_type": "code",
   "execution_count": 86,
   "metadata": {},
   "outputs": [],
   "source": [
    "def draw_line(tick, tick_label=''):\n",
    "    line = '-' * tick\n",
    "    if tick_label:\n",
    "        line += ' ' + tick_label\n",
    "    print(line)\n",
    "\n",
    "def draw_interval(leng):\n",
    "    if leng > 0:\n",
    "        draw_interval(leng-1)\n",
    "        draw_line(leng)\n",
    "        draw_interval(leng-1)\n",
    "\n",
    "def draw_ruler(leng, num_inches):\n",
    "    draw_line(leng, '0' )\n",
    "    for j in range(1, 1 +num_inches):\n",
    "        draw_interval(leng-1)\n",
    "        draw_line(leng, str(j))\n"
   ]
  },
  {
   "cell_type": "code",
   "execution_count": 92,
   "metadata": {},
   "outputs": [
    {
     "name": "stdout",
     "output_type": "stream",
     "text": [
      "---- 0\n",
      "-\n",
      "--\n",
      "-\n",
      "---\n",
      "-\n",
      "--\n",
      "-\n",
      "---- 1\n",
      "-\n",
      "--\n",
      "-\n",
      "---\n",
      "-\n",
      "--\n",
      "-\n",
      "---- 2\n"
     ]
    }
   ],
   "source": [
    "draw_ruler(4, 2)"
   ]
  },
  {
   "attachments": {},
   "cell_type": "markdown",
   "metadata": {},
   "source": [
    "Binary search with recursion"
   ]
  },
  {
   "cell_type": "code",
   "execution_count": 2,
   "metadata": {},
   "outputs": [],
   "source": [
    "def binary_search(data, target, low, high):\n",
    "    if low > high:\n",
    "        return True\n",
    "    else:\n",
    "        mid = round((low + high)/2)\n",
    "        if data[mid] == target:\n",
    "            print(f'found target {target} at {mid}')\n",
    "        elif target > data[mid]:\n",
    "            low = mid + 1\n",
    "            return binary_search(data, target=target, low=low, high=high)\n",
    "        elif target < data[mid]:         \n",
    "            high = mid - 1\n",
    "            return binary_search(data, target=target, low=low, high=high)"
   ]
  },
  {
   "cell_type": "code",
   "execution_count": 3,
   "metadata": {},
   "outputs": [
    {
     "name": "stdout",
     "output_type": "stream",
     "text": [
      "found target 500 at 499\n"
     ]
    }
   ],
   "source": [
    "l = list(range(1, 10000))\n",
    "binary_search(l, target=500, low = 0, high = len(l))"
   ]
  },
  {
   "attachments": {},
   "cell_type": "markdown",
   "metadata": {},
   "source": [
    "#### Find the immediate or the total size of a directory "
   ]
  },
  {
   "cell_type": "code",
   "execution_count": 6,
   "metadata": {},
   "outputs": [
    {
     "data": {
      "text/plain": [
       "4096"
      ]
     },
     "execution_count": 6,
     "metadata": {},
     "output_type": "execute_result"
    }
   ],
   "source": [
    "import os\n",
    "\n",
    "path = r\"C:\\Users\\main-HUB\\Documents\\practise\\book-algo\"\n",
    "os.path.getsize(path)"
   ]
  },
  {
   "cell_type": "code",
   "execution_count": 18,
   "metadata": {},
   "outputs": [],
   "source": [
    "def find_space(path):\n",
    "    total = os.path.getsize(path)\n",
    "    if os.path.isdir(path):\n",
    "        for sub_dir in os.listdir(path):\n",
    "            print(os.path.isdir(os.path.join(path, sub_dir)),os.path.join(path, sub_dir) )\n",
    "            total += find_space(os.path.join(path, sub_dir))\n",
    "    return total    \n",
    "\n",
    "    \n"
   ]
  },
  {
   "cell_type": "code",
   "execution_count": 19,
   "metadata": {},
   "outputs": [
    {
     "name": "stdout",
     "output_type": "stream",
     "text": [
      "True C:\\Users\\main-HUB\\Documents\\practise\\book-algo\\chapter1\n",
      "False C:\\Users\\main-HUB\\Documents\\practise\\book-algo\\chapter1\\binary-search.ipynb\n",
      "False C:\\Users\\main-HUB\\Documents\\practise\\book-algo\\chapter1\\pract2.ipynb\n",
      "False C:\\Users\\main-HUB\\Documents\\practise\\book-algo\\chapter1\\practise.ipynb\n",
      "False C:\\Users\\main-HUB\\Documents\\practise\\book-algo\\chapter1\\practise3.ipynb\n",
      "True C:\\Users\\main-HUB\\Documents\\practise\\book-algo\\chapter3\n",
      "False C:\\Users\\main-HUB\\Documents\\practise\\book-algo\\chapter3\\practise.ipynb\n",
      "False C:\\Users\\main-HUB\\Documents\\practise\\book-algo\\chapter3\\recursion.ipynb\n",
      "False C:\\Users\\main-HUB\\Documents\\practise\\book-algo\\chapter3\\recursion_examples.ipynb\n",
      "False C:\\Users\\main-HUB\\Documents\\practise\\book-algo\\selection-sort.ipynb\n"
     ]
    },
    {
     "data": {
      "text/plain": [
       "448882364"
      ]
     },
     "execution_count": 19,
     "metadata": {},
     "output_type": "execute_result"
    }
   ],
   "source": [
    "find_space(path)"
   ]
  },
  {
   "cell_type": "code",
   "execution_count": 9,
   "metadata": {},
   "outputs": [
    {
     "name": "stdout",
     "output_type": "stream",
     "text": [
      "chapter1\n",
      "4096\n",
      "chapter3\n",
      "4096\n",
      "selection-sort.ipynb\n",
      "4096\n"
     ]
    }
   ],
   "source": [
    "for i in os.listdir(path):\n",
    "    print(i)\n",
    "    print(os.path.getsize(path))"
   ]
  },
  {
   "cell_type": "code",
   "execution_count": null,
   "metadata": {},
   "outputs": [],
   "source": []
  },
  {
   "attachments": {},
   "cell_type": "markdown",
   "metadata": {},
   "source": [
    "EXERCISE R-4.2\n",
    "\n",
    "2 * power(2, 4) = 2 * 16 = 32\n",
    "2 * power(2, 3) = 2 * 8 = 16\n",
    "2 * power(2, 2) = 2 * 4 = 8\n",
    "2 * power(2, 1) = 2 * 2 = 4\n",
    "2 * power(2, 0) = 2 * 1 = 2\n"
   ]
  },
  {
   "attachments": {},
   "cell_type": "markdown",
   "metadata": {},
   "source": [
    "EXERCISE R-4.3\n",
    "\n",
    "power(2, 18) =  512 * 512 = 262144 \n",
    "partial = power(18 // 2) = power(2, 9) = 16 * 16 * 2 = 512\n",
    "partial = power(9 // 2) = power(2, 4) = 4 * 4     = 16\n",
    "partial = power(4 // 2) = power(2, 2) = 2 * 2     = 4\n",
    "partial = power(2 // 2) = power(2, 1) = 1 * 1 * 2 = 2\n",
    "partial = power(1 // 2) = power(2, 0) = 1\n"
   ]
  },
  {
   "attachments": {},
   "cell_type": "markdown",
   "metadata": {},
   "source": [
    "EXERCISE R-4.4\n",
    "\n",
    "reverse (S, 0, 5)\n",
    "S = [4, 3, 6, 2, 6)\n",
    "\n",
    "5-1 = 4\n",
    "s[0], s[4] = s[4], s[0]\n",
    "r(S, 0+1, 5-1) = r(S, 1, 4)   S = [6, 3, 6, 2, 4]\n",
    "\n",
    "4-1 = 3\n",
    "s[1], s[3] = s[3], s[1]\n",
    "r(S, 2, 3)                    S = [6, 2, 6, 3, 4]\n",
    "\n",
    "\n",
    "2 < 3-1 no\n",
    "exit with S = S = [6, 2, 6, 3, 4]"
   ]
  },
  {
   "attachments": {},
   "cell_type": "markdown",
   "metadata": {},
   "source": [
    "EXERCISE R-4.7"
   ]
  },
  {
   "cell_type": "code",
   "execution_count": 96,
   "metadata": {},
   "outputs": [
    {
     "data": {
      "text/plain": [
       "234000"
      ]
     },
     "execution_count": 96,
     "metadata": {},
     "output_type": "execute_result"
    }
   ],
   "source": [
    "i = 234234\n",
    "\n",
    "round(i / 100000) * 10000\n",
    "round(i / 10000) * 10000\n",
    "round(i / 1000) * 1000\n",
    "round(i / 100) * 100\n"
   ]
  },
  {
   "cell_type": "code",
   "execution_count": 88,
   "metadata": {},
   "outputs": [
    {
     "ename": "TypeError",
     "evalue": "'int' object is not subscriptable",
     "output_type": "error",
     "traceback": [
      "\u001b[1;31m---------------------------------------------------------------------------\u001b[0m",
      "\u001b[1;31mTypeError\u001b[0m                                 Traceback (most recent call last)",
      "\u001b[1;32mc:\\Users\\main-HUB\\Documents\\practise\\book-algo\\chapter3\\recursion_examples.ipynb Cell 20\u001b[0m in \u001b[0;36m<cell line: 1>\u001b[1;34m()\u001b[0m\n\u001b[1;32m----> <a href='vscode-notebook-cell:/c%3A/Users/main-HUB/Documents/practise/book-algo/chapter3/recursion_examples.ipynb#Y101sZmlsZQ%3D%3D?line=0'>1</a>\u001b[0m i[\u001b[39m0\u001b[39;49m]\n",
      "\u001b[1;31mTypeError\u001b[0m: 'int' object is not subscriptable"
     ]
    }
   ],
   "source": [
    "def make_int(num, stop):\n",
    "    \n"
   ]
  },
  {
   "cell_type": "code",
   "execution_count": null,
   "metadata": {},
   "outputs": [],
   "source": [
    "def power(x, n):\n",
    "    '''Compute the value x n for integer n.'''\n",
    "    if n == 0:\n",
    "        return 1\n",
    "    else:\n",
    "        partial = power(x, n // 2) # rely on truncated division\n",
    "        result = partial partial\n",
    "        if n % 2 == 1: # if n odd, include extra factor of x\n",
    "        result = x\n",
    "    return result"
   ]
  },
  {
   "attachments": {},
   "cell_type": "markdown",
   "metadata": {},
   "source": [
    "EXERCISE C-4.12"
   ]
  },
  {
   "cell_type": "code",
   "execution_count": 7,
   "metadata": {},
   "outputs": [],
   "source": [
    "def calc_product_by_addition(m, n):\n",
    "    if m > 1:\n",
    "        print(m-1)\n",
    "        return n + calc_product_by_addition(m-1, n)\n",
    "    else:\n",
    "        return n\n",
    "\n",
    "calc_product_by_addition(5, 3)"
   ]
  },
  {
   "cell_type": "code",
   "execution_count": null,
   "metadata": {},
   "outputs": [],
   "source": [
    "S = [1, 2, 4, 8, 3, 2, 3]\n",
    "def minimum(S, start, stop):\n",
    "    if stop - start < 1:\n",
    "        return 0\n",
    "    minimum(S, start+1, stop)\n",
    "\n",
    "def make_int(s, start, stop):\n",
    "    if stop - start < 1:\n",
    "        \n",
    "        int(s[start]) make_int(s, start+1, stop-1)\n"
   ]
  },
  {
   "attachments": {},
   "cell_type": "markdown",
   "metadata": {},
   "source": [
    "EXERCISE C-4.16"
   ]
  },
  {
   "cell_type": "code",
   "execution_count": 24,
   "metadata": {},
   "outputs": [],
   "source": [
    "def reverse_str(s, start, stop):\n",
    "    if not stop - start < 1:\n",
    "        s[start], s[stop] = s[stop], s[start]\n",
    "        return reverse_str(s, start+1, stop-1)\n",
    "\n",
    "ss = list(\"potsandpan\")\n",
    "reverse_str(ss, 0, len(ss)-1)\n",
    "''.join(ss)"
   ]
  },
  {
   "attachments": {},
   "cell_type": "markdown",
   "metadata": {},
   "source": [
    "EXERCISE C- 4.17\n"
   ]
  },
  {
   "cell_type": "code",
   "execution_count": 50,
   "metadata": {},
   "outputs": [
    {
     "name": "stdout",
     "output_type": "stream",
     "text": [
      "yes\n"
     ]
    }
   ],
   "source": [
    "s = 'racecar'\n",
    "\n",
    "def check_palindrome(palin_str, start, stop):\n",
    "    if not stop - start < 1:\n",
    "        if s[start] == s[stop]:\n",
    "            return check_palindrome(palin_str, start+1, stop-1)\n",
    "        else:\n",
    "            print('not palindrome')\n",
    "    else:\n",
    "        print('yes')\n",
    "\n",
    "\n",
    "check_palindrome(s, 0, len(s) - 1)"
   ]
  },
  {
   "attachments": {},
   "cell_type": "markdown",
   "metadata": {},
   "source": [
    "EXERCISE C-4.19"
   ]
  },
  {
   "cell_type": "code",
   "execution_count": 63,
   "metadata": {},
   "outputs": [],
   "source": [
    "s = [1,2,3,4,5,6,7,8,9]\n",
    "def rearrange(s, stop):\n",
    "    if not stop < 1:\n",
    "        if s[stop] % 2 == 1:\n",
    "            ele = s.pop(stop)\n",
    "            s.append(ele)\n",
    "        return rearrange(s, stop-1)\n",
    "rearrange(s, len(s)-1)"
   ]
  },
  {
   "attachments": {},
   "cell_type": "markdown",
   "metadata": {},
   "source": [
    "EXERCISE C-4.22"
   ]
  },
  {
   "cell_type": "code",
   "execution_count": 86,
   "metadata": {},
   "outputs": [
    {
     "data": {
      "text/plain": [
       "243"
      ]
     },
     "execution_count": 86,
     "metadata": {},
     "output_type": "execute_result"
    }
   ],
   "source": [
    "def power_with_loop(x, n):\n",
    "    exp = x\n",
    "    for i in range(n):\n",
    "        x = x * exp\n",
    "    return x\n",
    "power_with_loop(3, 4)\n"
   ]
  },
  {
   "cell_type": "markdown",
   "metadata": {},
   "source": []
  }
 ],
 "metadata": {
  "kernelspec": {
   "display_name": "Trading-CORarb6h",
   "language": "python",
   "name": "python3"
  },
  "language_info": {
   "codemirror_mode": {
    "name": "ipython",
    "version": 3
   },
   "file_extension": ".py",
   "mimetype": "text/x-python",
   "name": "python",
   "nbconvert_exporter": "python",
   "pygments_lexer": "ipython3",
   "version": "3.8.10"
  },
  "orig_nbformat": 4,
  "vscode": {
   "interpreter": {
    "hash": "8984d7ca7e4a2a6b5408ef7d6be627e9ef779b11ee9dc2b34d5643dc670e4ad9"
   }
  }
 },
 "nbformat": 4,
 "nbformat_minor": 2
}
