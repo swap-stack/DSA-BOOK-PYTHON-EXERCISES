{
 "cells": [
  {
   "cell_type": "code",
   "execution_count": null,
   "metadata": {},
   "outputs": [],
   "source": []
  },
  {
   "attachments": {},
   "cell_type": "markdown",
   "metadata": {},
   "source": [
    "Draw a ruler with recursion"
   ]
  },
  {
   "cell_type": "code",
   "execution_count": null,
   "metadata": {},
   "outputs": [],
   "source": [
    "def draw_line(tick_length, tick_label= ''):\n",
    "    '''Draw one line with given tick length (followed by optional label).'''\n",
    "    line = \"-\" * tick_length\n",
    "    if tick_label:\n",
    "        line += ' ' + tick_label\n",
    "    print(line)\n",
    "\n",
    "def draw_interval(center_length):\n",
    "    '''Draw tick interval based upon a central tick length.'''\n",
    "    if center_length > 0: # stop when length drops to 0\n",
    "        draw_interval(center_length - 1) # recursively draw top ticks\n",
    "        draw_line(center_length) # draw center tick\n",
    "        draw_interval(center_length - 1) # recursively draw bottom ticks\n",
    "   \n",
    "def draw_ruler(num_inches, major_length):\n",
    "    '''Draw English ruler with given number of inches, major tick length.'''\n",
    "    draw_line(major_length, '0' ) # draw inch 0 line\n",
    "    for j in range(1, 1 + num_inches):\n",
    "        draw_interval(major_length - 1) # draw interior ticks for inch\n",
    "        draw_line(major_length, str(j)) # draw inch"
   ]
  },
  {
   "cell_type": "code",
   "execution_count": null,
   "metadata": {},
   "outputs": [],
   "source": [
    "def draw_line(tick_length, tick_label= ''):\n",
    "    '''Draw one line with given tick length (followed by optional label).'''\n",
    "    line = \"-\" * tick_length\n",
    "    if tick_label:\n",
    "        line += ' ' + tick_label\n",
    "    print(line)\n",
    "\n",
    "def draw_interval(center_length):\n",
    "    '''Draw tick interval based upon a central tick length.'''\n",
    "    if center_length > 0: # stop when length drops to 0\n",
    "        draw_interval(center_length - 1) # recursively draw top ticks\n",
    "        draw_line(center_length) # draw center tick\n",
    "        draw_interval(center_length - 1) # recursively draw bottom ticks\n",
    "   \n",
    "def draw_ruler(num_inches, major_length):\n",
    "    '''Draw English ruler with given number of inches, major tick length.'''\n",
    "    draw_line(major_length, '0' ) # draw inch 0 line\n",
    "    for j in range(1, 1 + num_inches):\n",
    "        draw_interval(major_length - 1) # draw interior ticks for inch\n",
    "        draw_line(major_length, str(j)) # draw inch\n",
    "\n",
    "\n",
    "\n",
    "draw_ruler(4, 2)"
   ]
  },
  {
   "attachments": {},
   "cell_type": "markdown",
   "metadata": {},
   "source": [
    "#### Binary search with recursion"
   ]
  },
  {
   "cell_type": "code",
   "execution_count": null,
   "metadata": {},
   "outputs": [],
   "source": [
    "def binary_search(data, target, low, high):\n",
    "    if low > high:\n",
    "        return True\n",
    "    else:\n",
    "        mid = round((low + high)/2)\n",
    "        if data[mid] == target:\n",
    "            print(f'found target {target} at {mid}')\n",
    "        elif target > data[mid]:\n",
    "            low = mid + 1\n",
    "            return binary_search(data, target=target, low=low, high=high)\n",
    "        elif target < data[mid]:         \n",
    "            high = mid - 1\n",
    "            return binary_search(data, target=target, low=low, high=high)\n",
    "        \n",
    "\n",
    "l = list(range(1, 10000))\n",
    "binary_search(l, target=500, low = 0, high = len(l))"
   ]
  },
  {
   "attachments": {},
   "cell_type": "markdown",
   "metadata": {},
   "source": [
    "#### Find the immediate or the total size of a directory "
   ]
  },
  {
   "cell_type": "code",
   "execution_count": null,
   "metadata": {},
   "outputs": [],
   "source": [
    "import os\n",
    "\n",
    "path = r\"C:\\Users\\main-HUB\\Documents\\practise\\book-algo\"\n",
    "os.path.getsize(path)\n",
    "\n",
    "\n",
    "def find_space(path):\n",
    "    total = os.path.getsize(path)\n",
    "    if os.path.isdir(path):\n",
    "        for sub_dir in os.listdir(path):\n",
    "            print(os.path.isdir(os.path.join(path, sub_dir)),os.path.join(path, sub_dir) )\n",
    "            total += find_space(os.path.join(path, sub_dir))\n",
    "    return total\n",
    "\n",
    "find_space(path)\n",
    "\n",
    "for i in os.listdir(path):\n",
    "    print(i)\n",
    "    print(os.path.getsize(path))\n",
    "\n",
    "\n"
   ]
  }
 ],
 "metadata": {
  "kernelspec": {
   "display_name": "Trading-CORarb6h",
   "language": "python",
   "name": "python3"
  },
  "language_info": {
   "name": "python",
   "version": "3.8.10"
  },
  "orig_nbformat": 4,
  "vscode": {
   "interpreter": {
    "hash": "8984d7ca7e4a2a6b5408ef7d6be627e9ef779b11ee9dc2b34d5643dc670e4ad9"
   }
  }
 },
 "nbformat": 4,
 "nbformat_minor": 2
}
