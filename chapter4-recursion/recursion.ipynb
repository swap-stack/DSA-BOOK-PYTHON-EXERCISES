{
 "cells": [
  {
   "cell_type": "code",
   "execution_count": null,
   "metadata": {},
   "outputs": [],
   "source": []
  },
  {
   "attachments": {},
   "cell_type": "markdown",
   "metadata": {},
   "source": [
    "## Solved Exercises from the Recursion chapter"
   ]
  },
  {
   "attachments": {},
   "cell_type": "markdown",
   "metadata": {},
   "source": [
    "##### EXERCISE R-4.2\n",
    "\n",
    "2 * power(2, 4) = 2 * 16 = 32\n",
    "2 * power(2, 3) = 2 * 8 = 16\n",
    "2 * power(2, 2) = 2 * 4 = 8\n",
    "2 * power(2, 1) = 2 * 2 = 4\n",
    "2 * power(2, 0) = 2 * 1 = 2\n"
   ]
  },
  {
   "attachments": {},
   "cell_type": "markdown",
   "metadata": {},
   "source": [
    "##### EXERCISE R-4.3\n",
    "\n",
    "power(2, 18) =  512 * 512 = 262144 \n",
    "partial = power(18 // 2) = power(2, 9) = 16 * 16 * 2 = 512\n",
    "partial = power(9 // 2) = power(2, 4) = 4 * 4     = 16\n",
    "partial = power(4 // 2) = power(2, 2) = 2 * 2     = 4\n",
    "partial = power(2 // 2) = power(2, 1) = 1 * 1 * 2 = 2\n",
    "partial = power(1 // 2) = power(2, 0) = 1\n"
   ]
  },
  {
   "attachments": {},
   "cell_type": "markdown",
   "metadata": {},
   "source": [
    "##### EXERCISE R-4.4\n",
    "\n",
    "reverse (S, 0, 5)\n",
    "S = [4, 3, 6, 2, 6)\n",
    "\n",
    "5-1 = 4\n",
    "s[0], s[4] = s[4], s[0]\n",
    "r(S, 0+1, 5-1) = r(S, 1, 4)   S = [6, 3, 6, 2, 4]\n",
    "\n",
    "4-1 = 3\n",
    "s[1], s[3] = s[3], s[1]\n",
    "r(S, 2, 3)                    S = [6, 2, 6, 3, 4]\n",
    "\n",
    "\n",
    "2 < 3-1 no\n",
    "exit with S = S = [6, 2, 6, 3, 4]"
   ]
  },
  {
   "attachments": {},
   "cell_type": "markdown",
   "metadata": {},
   "source": [
    "##### EXERCISE R-4.7"
   ]
  },
  {
   "cell_type": "code",
   "execution_count": 96,
   "metadata": {},
   "outputs": [
    {
     "data": {
      "text/plain": [
       "234000"
      ]
     },
     "execution_count": 96,
     "metadata": {},
     "output_type": "execute_result"
    }
   ],
   "source": [
    "i = 234234\n",
    "\n",
    "round(i / 100000) * 10000\n",
    "round(i / 10000) * 10000\n",
    "round(i / 1000) * 1000\n",
    "round(i / 100) * 100\n"
   ]
  },
  {
   "cell_type": "markdown",
   "metadata": {},
   "source": []
  },
  {
   "cell_type": "code",
   "execution_count": null,
   "metadata": {},
   "outputs": [],
   "source": [
    "import math\n",
    "def find_int_of_log(x, n, i):\n",
    "    if x <= 1:\n",
    "        return i\n",
    "    else:\n",
    "        x = math.floor(x / n)\n",
    "    return find_int_of_log(x, n, i+1)\n",
    "\n",
    "find_int_of_log(2048, 2, 0)"
   ]
  },
  {
   "attachments": {},
   "cell_type": "markdown",
   "metadata": {},
   "source": [
    "##### EXERCISE C-4.12"
   ]
  },
  {
   "cell_type": "code",
   "execution_count": 1,
   "metadata": {},
   "outputs": [
    {
     "name": "stdout",
     "output_type": "stream",
     "text": [
      "4\n",
      "3\n",
      "2\n",
      "1\n"
     ]
    },
    {
     "data": {
      "text/plain": [
       "15"
      ]
     },
     "execution_count": 1,
     "metadata": {},
     "output_type": "execute_result"
    }
   ],
   "source": [
    "def calc_product_by_addition(m, n):\n",
    "    if m > 1:\n",
    "        print(m-1)\n",
    "        return n + calc_product_by_addition(m-1, n)\n",
    "    else:\n",
    "        return n\n",
    "\n",
    "calc_product_by_addition(5, 3)"
   ]
  },
  {
   "attachments": {},
   "cell_type": "markdown",
   "metadata": {},
   "source": [
    "##### EXERCISE C-4.16"
   ]
  },
  {
   "cell_type": "code",
   "execution_count": 2,
   "metadata": {},
   "outputs": [
    {
     "data": {
      "text/plain": [
       "'napdnastop'"
      ]
     },
     "execution_count": 2,
     "metadata": {},
     "output_type": "execute_result"
    }
   ],
   "source": [
    "def reverse_str(s, start, stop):\n",
    "    if not stop - start < 1:\n",
    "        s[start], s[stop] = s[stop], s[start]\n",
    "        return reverse_str(s, start+1, stop-1)\n",
    "\n",
    "ss = list(\"potsandpan\")\n",
    "reverse_str(ss, 0, len(ss)-1)\n",
    "''.join(ss)"
   ]
  },
  {
   "attachments": {},
   "cell_type": "markdown",
   "metadata": {},
   "source": [
    "##### EXERCISE C- 4.17\n"
   ]
  },
  {
   "cell_type": "code",
   "execution_count": 3,
   "metadata": {},
   "outputs": [
    {
     "name": "stdout",
     "output_type": "stream",
     "text": [
      "yes\n"
     ]
    }
   ],
   "source": [
    "s = 'racecar'\n",
    "\n",
    "def check_palindrome(palin_str, start, stop):\n",
    "    if not stop - start < 1:\n",
    "        if s[start] == s[stop]:\n",
    "            return check_palindrome(palin_str, start+1, stop-1)\n",
    "        else:\n",
    "            print('not palindrome')\n",
    "    else:\n",
    "        print('yes')\n",
    "\n",
    "\n",
    "check_palindrome(s, 0, len(s) - 1)"
   ]
  },
  {
   "cell_type": "markdown",
   "metadata": {},
   "source": []
  },
  {
   "cell_type": "code",
   "execution_count": null,
   "metadata": {},
   "outputs": [],
   "source": [
    "vowels = ['a', 'e', 'i', 'o', 'u']\n",
    "\n",
    "s = \"This is not that great but it will just do\"\n",
    "\n",
    "\n",
    "def check_vowels_consonants(s, start, i=0, j=0):\n",
    "    if start >= len(s):\n",
    "        return i > j, i, j\n",
    "    if s[start] in vowels:\n",
    "        return check_vowels_consonants(s, start+1, i+1, j)\n",
    "    return check_vowels_consonants(s, start+1, i, j+1)\n",
    "\n",
    "check_vowels_consonants(s, 0)"
   ]
  },
  {
   "attachments": {},
   "cell_type": "markdown",
   "metadata": {},
   "source": [
    "##### EXERCISE C-4.19"
   ]
  },
  {
   "cell_type": "code",
   "execution_count": 4,
   "metadata": {},
   "outputs": [],
   "source": [
    "s = [1,2,3,4,5,6,7,8,9]\n",
    "def rearrange(s, stop):\n",
    "    if not stop < 1:\n",
    "        if s[stop] % 2 == 1:\n",
    "            ele = s.pop(stop)\n",
    "            s.append(ele)\n",
    "        return rearrange(s, stop-1)\n",
    "rearrange(s, len(s)-1)"
   ]
  },
  {
   "attachments": {},
   "cell_type": "markdown",
   "metadata": {},
   "source": [
    "##### EXERCISE C-4.22"
   ]
  },
  {
   "cell_type": "code",
   "execution_count": 5,
   "metadata": {},
   "outputs": [
    {
     "data": {
      "text/plain": [
       "243"
      ]
     },
     "execution_count": 5,
     "metadata": {},
     "output_type": "execute_result"
    }
   ],
   "source": [
    "def power_with_loop(x, n):\n",
    "    exp = x\n",
    "    for i in range(n):\n",
    "        x = x * exp\n",
    "    return x\n",
    "power_with_loop(3, 4)\n"
   ]
  },
  {
   "cell_type": "code",
   "execution_count": null,
   "metadata": {},
   "outputs": [],
   "source": [
    "S = [1, 2, 4, 8, 3, 2, 3]\n",
    "def minimum(S, start, stop):\n",
    "    if stop - start < 1:\n",
    "        return 0\n",
    "    minimum(S, start+1, stop)\n",
    "\n",
    "def make_int(s, start, stop):\n",
    "    if stop - start < 1:\n",
    "        \n",
    "        int(s[start]) make_int(s, start+1, stop-1)\n",
    "\n",
    "\n",
    "def power(x, n):\n",
    "    '''Compute the value x n for integer n.'''\n",
    "    if n == 0:\n",
    "        return 1\n",
    "    else:\n",
    "        partial = power(x, n // 2) # rely on truncated division\n",
    "        result = partial * partial\n",
    "        if n % 2 == 1: # if n odd, include extra factor of x\n",
    "        result = x\n",
    "    return result"
   ]
  }
 ],
 "metadata": {
  "kernelspec": {
   "display_name": "Trading-CORarb6h",
   "language": "python",
   "name": "python3"
  },
  "language_info": {
   "codemirror_mode": {
    "name": "ipython",
    "version": 3
   },
   "file_extension": ".py",
   "mimetype": "text/x-python",
   "name": "python",
   "nbconvert_exporter": "python",
   "pygments_lexer": "ipython3",
   "version": "3.8.10"
  },
  "orig_nbformat": 4,
  "vscode": {
   "interpreter": {
    "hash": "8984d7ca7e4a2a6b5408ef7d6be627e9ef779b11ee9dc2b34d5643dc670e4ad9"
   }
  }
 },
 "nbformat": 4,
 "nbformat_minor": 2
}
