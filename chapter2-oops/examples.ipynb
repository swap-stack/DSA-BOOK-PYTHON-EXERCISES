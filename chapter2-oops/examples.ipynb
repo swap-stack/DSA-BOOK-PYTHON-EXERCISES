{
 "cells": [
  {
   "attachments": {},
   "cell_type": "markdown",
   "metadata": {},
   "source": [
    "# Progression"
   ]
  },
  {
   "cell_type": "code",
   "execution_count": 27,
   "metadata": {},
   "outputs": [],
   "source": [
    "class Progression:\n",
    "    def __init__(self, start=0) -> None:\n",
    "        self._current = start\n",
    "\n",
    "    def _advance(self):        \n",
    "        self._current += 1\n",
    "    \n",
    "    def __next__(self):\n",
    "        if self._current is None:\n",
    "            raise StopIteration\n",
    "        else:\n",
    "            answer = self._current\n",
    "            self._advance()\n",
    "            return answer\n",
    "\n",
    "    def __iter__(self):\n",
    "        return self\n",
    "\n",
    "    def print_progression(self, n):\n",
    "        print(' '.join(str(next(self) ) for i in range(n) ))\n"
   ]
  },
  {
   "cell_type": "code",
   "execution_count": 9,
   "metadata": {},
   "outputs": [
    {
     "name": "stdout",
     "output_type": "stream",
     "text": [
      "0\n",
      "1\n",
      "2\n",
      "3\n",
      "4\n",
      "5\n",
      "6\n",
      "7\n",
      "8\n",
      "9\n",
      "10\n"
     ]
    }
   ],
   "source": [
    "p = Progression()\n",
    "\n",
    "for i in p:\n",
    "    print(i)\n",
    "    if i == 10:\n",
    "        break"
   ]
  },
  {
   "attachments": {},
   "cell_type": "markdown",
   "metadata": {},
   "source": [
    "# Arithemetic Progression"
   ]
  },
  {
   "cell_type": "code",
   "execution_count": 11,
   "metadata": {},
   "outputs": [],
   "source": [
    "class ArithemeticProgression(Progression):\n",
    "\n",
    "    def __init__(self, increment, start=0) -> None:\n",
    "        super().__init__(start)\n",
    "        self._increment = increment\n",
    "\n",
    "    def _advance(self):\n",
    "        self._current += self._increment\n",
    "\n",
    "    def __next__(self):\n",
    "        return super().__next__()\n",
    "    \n",
    "    def __iter__(self):\n",
    "        return super().__iter__()\n",
    "    \n",
    "    def print_progression(self, n):\n",
    "        return super().print_progression(n)\n",
    "    "
   ]
  },
  {
   "cell_type": "code",
   "execution_count": 12,
   "metadata": {},
   "outputs": [
    {
     "name": "stdout",
     "output_type": "stream",
     "text": [
      "0 3 6 9 12 15 18 21 24 27\n"
     ]
    }
   ],
   "source": [
    "a = ArithemeticProgression(3)\n",
    "\n",
    "a.print_progression(10)"
   ]
  },
  {
   "attachments": {},
   "cell_type": "markdown",
   "metadata": {},
   "source": [
    "# Geometric Progression\n"
   ]
  },
  {
   "cell_type": "code",
   "execution_count": 29,
   "metadata": {},
   "outputs": [],
   "source": [
    "class GeometricProgression(Progression):\n",
    "\n",
    "    def __init__(self, base=2, start=1) -> None:\n",
    "        super().__init__(start)\n",
    "        self._base = base\n",
    "\n",
    "    def _advance(self):\n",
    "        self._current *= self._base \n",
    "\n"
   ]
  },
  {
   "cell_type": "code",
   "execution_count": 30,
   "metadata": {},
   "outputs": [
    {
     "name": "stdout",
     "output_type": "stream",
     "text": [
      "1 4 16 64\n"
     ]
    }
   ],
   "source": [
    "g = GeometricProgression(4)\n",
    "\n",
    "g.print_progression(4)"
   ]
  },
  {
   "attachments": {},
   "cell_type": "markdown",
   "metadata": {},
   "source": [
    "# Fibonacci progression"
   ]
  },
  {
   "cell_type": "code",
   "execution_count": 31,
   "metadata": {},
   "outputs": [],
   "source": [
    "class FibonacciProgression(Progression):\n",
    "    def __init__(self, first=0, second=1) -> None:\n",
    "        super().__init__(first)\n",
    "        print()\n",
    "        self._prev = second - first\n",
    "\n",
    "    def _advance(self):\n",
    "        self._prev, self._current = self._current, self._prev + self._current\n"
   ]
  },
  {
   "cell_type": "code",
   "execution_count": 44,
   "metadata": {},
   "outputs": [
    {
     "name": "stdout",
     "output_type": "stream",
     "text": [
      "0 1 1 2 3 5 8 13 21 34\n"
     ]
    }
   ],
   "source": [
    "FibonacciProgression().print_progression(10)"
   ]
  },
  {
   "cell_type": "code",
   "execution_count": 60,
   "metadata": {},
   "outputs": [],
   "source": [
    "f = FibonacciProgression()"
   ]
  },
  {
   "cell_type": "code",
   "execution_count": 61,
   "metadata": {},
   "outputs": [
    {
     "name": "stdout",
     "output_type": "stream",
     "text": [
      "0\n"
     ]
    }
   ],
   "source": [
    "for i in f:\n",
    "    print(i)\n",
    "    break"
   ]
  },
  {
   "attachments": {},
   "cell_type": "markdown",
   "metadata": {},
   "source": [
    "# Abstract Base Class"
   ]
  },
  {
   "cell_type": "code",
   "execution_count": null,
   "metadata": {},
   "outputs": [],
   "source": [
    "from abc import ABCMeta, abstractmethod\n",
    "\n",
    "\n",
    "class Sequence(metaclass=ABCMeta):\n",
    "\n",
    "    @abstractmethod\n",
    "    def __len__(self):\n",
    "        \"\"\" \"\"\"\n",
    "\n",
    "    @abstractmethod\n",
    "    def __getitem__(self, j):\n",
    "        \"\"\" \"\"\"\n",
    "\n",
    "    def __contains__(self, val):\n",
    "        \"\"\" \"\"\"\n",
    "        for j in range(len(self)):\n",
    "            if self[j] == val:\n",
    "                return True\n",
    "        return False \n",
    "\n",
    "    def index(self, val):\n",
    "        \"\"\" \"\"\"\n",
    "        for k in range(len(self)):\n",
    "            if self[k] == val:\n",
    "                return k\n",
    "        raise ValueError('value not in sequence')\n",
    "    \n",
    "    def count(self, val):\n",
    "        \"\"\" \"\"\"\n",
    "        count = 0\n",
    "        for k in range(len(self)):\n",
    "            if self[k] == val:\n",
    "                count += 1\n",
    "        return count\n",
    "    \n",
    "\n",
    "\n"
   ]
  },
  {
   "attachments": {},
   "cell_type": "markdown",
   "metadata": {},
   "source": [
    "Credit card example "
   ]
  },
  {
   "cell_type": "code",
   "execution_count": 1,
   "metadata": {},
   "outputs": [],
   "source": [
    "class CreditCard:\n",
    "    def __init__(self, customer, bank, accnt, limit) -> None:\n",
    "        self._customer = customer\n",
    "        self._bank = bank\n",
    "        self._accnt = accnt\n",
    "        self._limit = limit\n",
    "        self._balance = 0\n",
    "\n",
    "    def get_customer(self):\n",
    "        return self._customer\n",
    "    \n",
    "    def get_bank(self):\n",
    "        return self._bank\n",
    "    \n",
    "    def get_balance(self):\n",
    "        return self._balance\n",
    "    \n",
    "    def get_limit(self):\n",
    "        return self._limit\n",
    "    \n",
    "    def get_account(self):\n",
    "        return self._accnt\n",
    "    \n",
    "    def charge(self, price):\n",
    "        if price + self._balance > self._limit:\n",
    "            return False\n",
    "        else:\n",
    "            self._balance += price\n",
    "            return True\n",
    "    \n",
    "    def make_payment(self, amount):\n",
    "        self._balance -= amount\n",
    "\n",
    "\n"
   ]
  },
  {
   "attachments": {},
   "cell_type": "markdown",
   "metadata": {},
   "source": [
    "Predatory credit card class\n"
   ]
  },
  {
   "cell_type": "code",
   "execution_count": null,
   "metadata": {},
   "outputs": [],
   "source": [
    "class PredatoryCreditCard(CreditCard):\n",
    "    \n",
    "    def __init__(self, customer, bank, accnt, limit, apr) -> None:\n",
    "        super().__init__(customer, bank, accnt, limit)\n",
    "        self._apr = apr\n",
    "\n",
    "    def charge(self, price):\n",
    "        success = super().charge(price)\n",
    "        if not success:\n",
    "            self._balance += 5\n",
    "        return success\n",
    "    \n",
    "    def process_month(self):\n",
    "        if self._balance > 0:\n",
    "            monthly_factor = pow(1+ self._apr, 1/12)\n",
    "            self._balance *= monthly_factor\n",
    "\n"
   ]
  },
  {
   "attachments": {},
   "cell_type": "markdown",
   "metadata": {},
   "source": [
    "2.6 Deep and Shallow copying\n"
   ]
  },
  {
   "cell_type": "code",
   "execution_count": 3,
   "metadata": {},
   "outputs": [],
   "source": [
    "class Color:\n",
    "    def __init__(self, red, blue, green) -> None:\n",
    "        self._red = red\n",
    "        self._blue = blue\n",
    "        self._green = green\n",
    "    \n",
    "    def __repr__(self) -> str:\n",
    "        return f'r {self._red} b {self._blue} g {self._green}'\n",
    "    \n",
    "\n",
    "c1 = Color(121, 343, 22)\n",
    "c2 = Color(2, 6, 99)"
   ]
  },
  {
   "cell_type": "code",
   "execution_count": 7,
   "metadata": {},
   "outputs": [
    {
     "name": "stdout",
     "output_type": "stream",
     "text": [
      "1763655215104\n"
     ]
    }
   ],
   "source": [
    "warmtones = [c1, c2]\n",
    "print(id(warmtones))"
   ]
  },
  {
   "cell_type": "code",
   "execution_count": 10,
   "metadata": {},
   "outputs": [
    {
     "name": "stdout",
     "output_type": "stream",
     "text": [
      "1763655215104\n"
     ]
    }
   ],
   "source": [
    "palette = warmtones\n",
    "print(id(palette))"
   ]
  },
  {
   "cell_type": "code",
   "execution_count": 11,
   "metadata": {},
   "outputs": [
    {
     "name": "stdout",
     "output_type": "stream",
     "text": [
      "1763656482048\n"
     ]
    }
   ],
   "source": [
    "palette = list(warmtones) # created a new list \n",
    "print(id(palette))"
   ]
  },
  {
   "cell_type": "code",
   "execution_count": 12,
   "metadata": {},
   "outputs": [],
   "source": [
    "warmtones[0]._blue = 3"
   ]
  },
  {
   "attachments": {},
   "cell_type": "markdown",
   "metadata": {},
   "source": [
    "The color object in both the list are refering to the same address so changing it from warmstones also changes the color object in palette\n",
    "this is an example of shallow copying\n",
    "\n",
    "it is better than directly assigning the warmtones identifier to the pallette variable but the two identifiers are not completely independent\n"
   ]
  },
  {
   "cell_type": "code",
   "execution_count": 15,
   "metadata": {},
   "outputs": [
    {
     "data": {
      "text/plain": [
       "([r 121 b 3 g 22, r 2 b 6 g 99], [r 121 b 3 g 22, r 2 b 6 g 99])"
      ]
     },
     "execution_count": 15,
     "metadata": {},
     "output_type": "execute_result"
    }
   ],
   "source": [
    "warmtones, palette"
   ]
  },
  {
   "attachments": {},
   "cell_type": "markdown",
   "metadata": {},
   "source": [
    "Deep Copy\n",
    "In a deep copy, the new copy references its own copies of those objects referenced by the original version"
   ]
  },
  {
   "cell_type": "code",
   "execution_count": 16,
   "metadata": {},
   "outputs": [],
   "source": [
    "import copy\n",
    "palette = copy.deepcopy(warmtones)\n",
    "print(id(palette), id(warmtones))"
   ]
  },
  {
   "cell_type": "code",
   "execution_count": 20,
   "metadata": {},
   "outputs": [
    {
     "data": {
      "text/plain": [
       "([r 121 b 343 g 22, r 2 b 6 g 99], [r 121 b 3 g 22, r 2 b 6 g 99])"
      ]
     },
     "execution_count": 20,
     "metadata": {},
     "output_type": "execute_result"
    }
   ],
   "source": [
    "warmtones[0]._blue = 343\n",
    "warmtones, palette"
   ]
  }
 ],
 "metadata": {
  "kernelspec": {
   "display_name": "Python 3",
   "language": "python",
   "name": "python3"
  },
  "language_info": {
   "codemirror_mode": {
    "name": "ipython",
    "version": 3
   },
   "file_extension": ".py",
   "mimetype": "text/x-python",
   "name": "python",
   "nbconvert_exporter": "python",
   "pygments_lexer": "ipython3",
   "version": "3.8.10"
  },
  "orig_nbformat": 4
 },
 "nbformat": 4,
 "nbformat_minor": 2
}
