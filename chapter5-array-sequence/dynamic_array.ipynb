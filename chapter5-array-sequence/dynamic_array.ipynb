{
 "cells": [
  {
   "cell_type": "code",
   "execution_count": 109,
   "metadata": {},
   "outputs": [],
   "source": [
    "from ctypes import *\n"
   ]
  },
  {
   "cell_type": "code",
   "execution_count": 118,
   "metadata": {},
   "outputs": [],
   "source": [
    "class DynamicArray:\n",
    "    def __init__(self) -> None:\n",
    "        self._n = 0\n",
    "        self._capacity = 1\n",
    "        self._A = self._make_array(self._capacity)\n",
    "\n",
    "    def len(self):\n",
    "        return self._n\n",
    "\n",
    "    def __getitem__(self, k):\n",
    "        if not 0 <= k <= self._n:\n",
    "            raise IndexError('Invalid index')\n",
    "        return self._A[k]\n",
    "\n",
    "    def append(self, a):\n",
    "        # if there is capacity for more elemensts then add directly else resize\n",
    "        if self._n == self._capacity:\n",
    "            self._resize(2 * self._capacity)\n",
    "        self._A[self._n] = a\n",
    "        self._n += 1\n",
    "\n",
    "    def _resize(self, c):\n",
    "        B = self._make_array(c)\n",
    "        print(B[-1])\n",
    "        for k in range(self._n):\n",
    "            B[k] = self._A[k]\n",
    "        self._A = B\n",
    "        print(self._A)\n",
    "\n",
    "        self._capacity = c\n",
    "\n",
    "    def _make_array(self, c):\n",
    "        return ( c * py_object)()\n",
    "    \n",
    "    def __repr__(self) -> str:\n",
    "        return f'{[ self._A[i] for i in range(len(self._A)) if self._A[i] != True ]}'"
   ]
  },
  {
   "cell_type": "code",
   "execution_count": 119,
   "metadata": {},
   "outputs": [],
   "source": [
    "l = DynamicArray()"
   ]
  },
  {
   "cell_type": "code",
   "execution_count": 121,
   "metadata": {},
   "outputs": [
    {
     "ename": "ValueError",
     "evalue": "PyObject is NULL",
     "output_type": "error",
     "traceback": [
      "\u001b[1;31m---------------------------------------------------------------------------\u001b[0m",
      "\u001b[1;31mValueError\u001b[0m                                Traceback (most recent call last)",
      "\u001b[1;32mc:\\Users\\main-HUB\\Documents\\practise\\book-algo\\DSA-BOOK-PYTHON-EXERCISES\\chp5-Sequences\\dynamic_array.ipynb Cell 4\u001b[0m in \u001b[0;36m<cell line: 1>\u001b[1;34m()\u001b[0m\n\u001b[1;32m----> <a href='vscode-notebook-cell:/c%3A/Users/main-HUB/Documents/practise/book-algo/DSA-BOOK-PYTHON-EXERCISES/chp5-Sequences/dynamic_array.ipynb#W4sZmlsZQ%3D%3D?line=0'>1</a>\u001b[0m l\u001b[39m.\u001b[39;49mappend(\u001b[39m7\u001b[39;49m)\n\u001b[0;32m      <a href='vscode-notebook-cell:/c%3A/Users/main-HUB/Documents/practise/book-algo/DSA-BOOK-PYTHON-EXERCISES/chp5-Sequences/dynamic_array.ipynb#W4sZmlsZQ%3D%3D?line=1'>2</a>\u001b[0m \u001b[39mfor\u001b[39;00m i \u001b[39min\u001b[39;00m l:\n\u001b[0;32m      <a href='vscode-notebook-cell:/c%3A/Users/main-HUB/Documents/practise/book-algo/DSA-BOOK-PYTHON-EXERCISES/chp5-Sequences/dynamic_array.ipynb#W4sZmlsZQ%3D%3D?line=2'>3</a>\u001b[0m     \u001b[39mprint\u001b[39m(l)\n",
      "\u001b[1;32mc:\\Users\\main-HUB\\Documents\\practise\\book-algo\\DSA-BOOK-PYTHON-EXERCISES\\chp5-Sequences\\dynamic_array.ipynb Cell 4\u001b[0m in \u001b[0;36mDynamicArray.append\u001b[1;34m(self, a)\u001b[0m\n\u001b[0;32m     <a href='vscode-notebook-cell:/c%3A/Users/main-HUB/Documents/practise/book-algo/DSA-BOOK-PYTHON-EXERCISES/chp5-Sequences/dynamic_array.ipynb#W4sZmlsZQ%3D%3D?line=14'>15</a>\u001b[0m \u001b[39mdef\u001b[39;00m \u001b[39mappend\u001b[39m(\u001b[39mself\u001b[39m, a):\n\u001b[0;32m     <a href='vscode-notebook-cell:/c%3A/Users/main-HUB/Documents/practise/book-algo/DSA-BOOK-PYTHON-EXERCISES/chp5-Sequences/dynamic_array.ipynb#W4sZmlsZQ%3D%3D?line=15'>16</a>\u001b[0m     \u001b[39m# if there is capacity for more elemensts then add directly else resize\u001b[39;00m\n\u001b[0;32m     <a href='vscode-notebook-cell:/c%3A/Users/main-HUB/Documents/practise/book-algo/DSA-BOOK-PYTHON-EXERCISES/chp5-Sequences/dynamic_array.ipynb#W4sZmlsZQ%3D%3D?line=16'>17</a>\u001b[0m     \u001b[39mif\u001b[39;00m \u001b[39mself\u001b[39m\u001b[39m.\u001b[39m_n \u001b[39m==\u001b[39m \u001b[39mself\u001b[39m\u001b[39m.\u001b[39m_capacity:\n\u001b[1;32m---> <a href='vscode-notebook-cell:/c%3A/Users/main-HUB/Documents/practise/book-algo/DSA-BOOK-PYTHON-EXERCISES/chp5-Sequences/dynamic_array.ipynb#W4sZmlsZQ%3D%3D?line=17'>18</a>\u001b[0m         \u001b[39mself\u001b[39;49m\u001b[39m.\u001b[39;49m_resize(\u001b[39m2\u001b[39;49m \u001b[39m*\u001b[39;49m \u001b[39mself\u001b[39;49m\u001b[39m.\u001b[39;49m_capacity)\n\u001b[0;32m     <a href='vscode-notebook-cell:/c%3A/Users/main-HUB/Documents/practise/book-algo/DSA-BOOK-PYTHON-EXERCISES/chp5-Sequences/dynamic_array.ipynb#W4sZmlsZQ%3D%3D?line=18'>19</a>\u001b[0m     \u001b[39mself\u001b[39m\u001b[39m.\u001b[39m_A[\u001b[39mself\u001b[39m\u001b[39m.\u001b[39m_n] \u001b[39m=\u001b[39m a\n\u001b[0;32m     <a href='vscode-notebook-cell:/c%3A/Users/main-HUB/Documents/practise/book-algo/DSA-BOOK-PYTHON-EXERCISES/chp5-Sequences/dynamic_array.ipynb#W4sZmlsZQ%3D%3D?line=19'>20</a>\u001b[0m     \u001b[39mself\u001b[39m\u001b[39m.\u001b[39m_n \u001b[39m+\u001b[39m\u001b[39m=\u001b[39m \u001b[39m1\u001b[39m\n",
      "\u001b[1;32mc:\\Users\\main-HUB\\Documents\\practise\\book-algo\\DSA-BOOK-PYTHON-EXERCISES\\chp5-Sequences\\dynamic_array.ipynb Cell 4\u001b[0m in \u001b[0;36mDynamicArray._resize\u001b[1;34m(self, c)\u001b[0m\n\u001b[0;32m     <a href='vscode-notebook-cell:/c%3A/Users/main-HUB/Documents/practise/book-algo/DSA-BOOK-PYTHON-EXERCISES/chp5-Sequences/dynamic_array.ipynb#W4sZmlsZQ%3D%3D?line=21'>22</a>\u001b[0m \u001b[39mdef\u001b[39;00m \u001b[39m_resize\u001b[39m(\u001b[39mself\u001b[39m, c):\n\u001b[0;32m     <a href='vscode-notebook-cell:/c%3A/Users/main-HUB/Documents/practise/book-algo/DSA-BOOK-PYTHON-EXERCISES/chp5-Sequences/dynamic_array.ipynb#W4sZmlsZQ%3D%3D?line=22'>23</a>\u001b[0m     B \u001b[39m=\u001b[39m \u001b[39mself\u001b[39m\u001b[39m.\u001b[39m_make_array(c)\n\u001b[1;32m---> <a href='vscode-notebook-cell:/c%3A/Users/main-HUB/Documents/practise/book-algo/DSA-BOOK-PYTHON-EXERCISES/chp5-Sequences/dynamic_array.ipynb#W4sZmlsZQ%3D%3D?line=23'>24</a>\u001b[0m     \u001b[39mprint\u001b[39m(B[\u001b[39m-\u001b[39;49m\u001b[39m1\u001b[39;49m])\n\u001b[0;32m     <a href='vscode-notebook-cell:/c%3A/Users/main-HUB/Documents/practise/book-algo/DSA-BOOK-PYTHON-EXERCISES/chp5-Sequences/dynamic_array.ipynb#W4sZmlsZQ%3D%3D?line=24'>25</a>\u001b[0m     \u001b[39mfor\u001b[39;00m k \u001b[39min\u001b[39;00m \u001b[39mrange\u001b[39m(\u001b[39mself\u001b[39m\u001b[39m.\u001b[39m_n):\n\u001b[0;32m     <a href='vscode-notebook-cell:/c%3A/Users/main-HUB/Documents/practise/book-algo/DSA-BOOK-PYTHON-EXERCISES/chp5-Sequences/dynamic_array.ipynb#W4sZmlsZQ%3D%3D?line=25'>26</a>\u001b[0m         B[k] \u001b[39m=\u001b[39m \u001b[39mself\u001b[39m\u001b[39m.\u001b[39m_A[k]\n",
      "\u001b[1;31mValueError\u001b[0m: PyObject is NULL"
     ]
    }
   ],
   "source": [
    "l.append(7)\n",
    "for i in l:\n",
    "    print(l)"
   ]
  },
  {
   "cell_type": "code",
   "execution_count": null,
   "metadata": {},
   "outputs": [],
   "source": [
    "list"
   ]
  }
 ],
 "metadata": {
  "kernelspec": {
   "display_name": "Trading-CORarb6h",
   "language": "python",
   "name": "python3"
  },
  "language_info": {
   "codemirror_mode": {
    "name": "ipython",
    "version": 3
   },
   "file_extension": ".py",
   "mimetype": "text/x-python",
   "name": "python",
   "nbconvert_exporter": "python",
   "pygments_lexer": "ipython3",
   "version": "3.8.10"
  },
  "orig_nbformat": 4
 },
 "nbformat": 4,
 "nbformat_minor": 2
}
