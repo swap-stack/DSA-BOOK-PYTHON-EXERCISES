{
 "cells": [
  {
   "cell_type": "code",
   "execution_count": 1,
   "metadata": {},
   "outputs": [],
   "source": [
    "def insertion_sort(A):\n",
    "\n",
    "    for k in range(len(A)):\n",
    "\n",
    "        curr = A[k]\n",
    "        j = k\n",
    "        while j > 0 and A[j-1] > curr:\n",
    "            A[j] = A[j-1]\n",
    "            j -= 1\n",
    "        A[j] = curr\n"
   ]
  },
  {
   "cell_type": "code",
   "execution_count": 7,
   "metadata": {},
   "outputs": [],
   "source": [
    "import random\n",
    "unsorted_list = []\n",
    "for i in range(15):\n",
    "    unsorted_list.append(random.randrange(1, 20))"
   ]
  },
  {
   "cell_type": "code",
   "execution_count": 10,
   "metadata": {},
   "outputs": [
    {
     "data": {
      "text/plain": [
       "[1, 3, 6, 6, 7, 7, 10, 11, 13, 14, 14, 14, 15, 18, 18]"
      ]
     },
     "execution_count": 10,
     "metadata": {},
     "output_type": "execute_result"
    }
   ],
   "source": [
    "unsorted_list"
   ]
  },
  {
   "cell_type": "code",
   "execution_count": 9,
   "metadata": {},
   "outputs": [],
   "source": [
    "insertion_sort(unsorted_list)"
   ]
  }
 ],
 "metadata": {
  "kernelspec": {
   "display_name": "Trading-CORarb6h",
   "language": "python",
   "name": "python3"
  },
  "language_info": {
   "codemirror_mode": {
    "name": "ipython",
    "version": 3
   },
   "file_extension": ".py",
   "mimetype": "text/x-python",
   "name": "python",
   "nbconvert_exporter": "python",
   "pygments_lexer": "ipython3",
   "version": "3.8.10"
  },
  "orig_nbformat": 4
 },
 "nbformat": 4,
 "nbformat_minor": 2
}
