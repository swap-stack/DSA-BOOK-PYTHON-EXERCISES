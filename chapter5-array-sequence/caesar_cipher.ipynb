{
 "cells": [
  {
   "cell_type": "code",
   "execution_count": 65,
   "metadata": {},
   "outputs": [],
   "source": [
    "\n",
    "\n",
    "encoder = [None] * 26"
   ]
  },
  {
   "cell_type": "code",
   "execution_count": 66,
   "metadata": {},
   "outputs": [
    {
     "data": {
      "text/plain": [
       "'\\x03'"
      ]
     },
     "execution_count": 66,
     "metadata": {},
     "output_type": "execute_result"
    }
   ],
   "source": [
    "chr(1+2)"
   ]
  },
  {
   "cell_type": "code",
   "execution_count": 67,
   "metadata": {},
   "outputs": [],
   "source": [
    "ord('A'),\n",
    "shift = 3 "
   ]
  },
  {
   "cell_type": "code",
   "execution_count": 68,
   "metadata": {},
   "outputs": [],
   "source": [
    "for i in range(26):\n",
    "    encoder[i] = chr( i+ shift % 26  + ord('A'))"
   ]
  },
  {
   "cell_type": "code",
   "execution_count": 69,
   "metadata": {},
   "outputs": [
    {
     "data": {
      "text/plain": [
       "11"
      ]
     },
     "execution_count": 69,
     "metadata": {},
     "output_type": "execute_result"
    }
   ],
   "source": [
    "ord('L') -  ord('A')"
   ]
  },
  {
   "cell_type": "code",
   "execution_count": 70,
   "metadata": {},
   "outputs": [],
   "source": [
    "import time"
   ]
  },
  {
   "cell_type": "code",
   "execution_count": 71,
   "metadata": {},
   "outputs": [
    {
     "name": "stdout",
     "output_type": "stream",
     "text": [
      "Encrypt taytay😘❤ lyrics 101 with Caesar Cipher \n",
      ".\n",
      ".\n",
      ".\n",
      ".\n",
      "Encrypting...........  ITS ME HI 🙋‍♀️ IM THE PROBLEM ITS ME 🤦‍♀️😶\n",
      ".\n",
      ".\n",
      "Encrypted message😎    LWV PH KL 🙋‍♀️ LP WKH SUREOHP LWV PH 🤦‍♀️😶\n",
      ".\n",
      ".\n",
      "Message deciphering    ITS ME HI 🙋‍♀️ IM THE PROBLEM ITS ME 🤦‍♀️😶\n"
     ]
    }
   ],
   "source": [
    "class CaesarCipher:\n",
    "    def __init__(self, shift) -> None:\n",
    "        self.encoder = [None] * 26\n",
    "        self.decoder = [None] * 26\n",
    "        for k in range(26):\n",
    "            self.encoder[k] = chr((k + shift) % 26 + ord('A'))\n",
    "            self.decoder[k] = chr((k - shift) % 26 + ord('A'))\n",
    "        self._forward   = ''.join(self.encoder)\n",
    "        self._backward  = ''.join(self.decoder)\n",
    "\n",
    "    def encrypt(self, message):\n",
    "        return self._transform(message, self._forward)\n",
    "\n",
    "    def decrypt(self, message):\n",
    "        return self._transform(message, self._backward)\n",
    "\n",
    "    def _transform(self, original, code):\n",
    "        msg = list(original)\n",
    "\n",
    "        for k in range(len(msg)):\n",
    "            if msg[k].isupper():\n",
    "                j = ord(msg[k]) - ord('A')\n",
    "                msg[k]= code[j]\n",
    "        return ''.join(msg)\n",
    "    \n",
    "\n",
    "\n",
    "if __name__ == '__main__':\n",
    "    print('Encrypt taytay😘❤ lyrics 101 with Caesar Cipher ')\n",
    "    for i in range(4):\n",
    "        print('.')\n",
    "        time.sleep(1)\n",
    "    cipher = CaesarCipher(shift=3)\n",
    "    message = \"ITS ME HI 🙋‍♀️ IM THE PROBLEM ITS ME 🤦‍♀️😶\"\n",
    "    print(f'Encrypting...........  {message}')    \n",
    "    coded = cipher.encrypt(message)\n",
    "    for i in range(2):\n",
    "        print('.')\n",
    "        time.sleep(1)\n",
    "    \n",
    "    print(f'Encrypted message😎    {coded}')\n",
    "    decoded = cipher.decrypt(coded)\n",
    "    for i in range(2):\n",
    "        print('.')\n",
    "        time.sleep(1)\n",
    "    print(f'Message deciphering    {decoded}')\n",
    "\n"
   ]
  },
  {
   "cell_type": "code",
   "execution_count": 76,
   "metadata": {},
   "outputs": [
    {
     "data": {
      "text/plain": [
       "['X',\n",
       " 'Y',\n",
       " 'Z',\n",
       " 'A',\n",
       " 'B',\n",
       " 'C',\n",
       " 'D',\n",
       " 'E',\n",
       " 'F',\n",
       " 'G',\n",
       " 'H',\n",
       " 'I',\n",
       " 'J',\n",
       " 'K',\n",
       " 'L',\n",
       " 'M',\n",
       " 'N',\n",
       " 'O',\n",
       " 'P',\n",
       " 'Q',\n",
       " 'R',\n",
       " 'S',\n",
       " 'T',\n",
       " 'U',\n",
       " 'V',\n",
       " 'W']"
      ]
     },
     "execution_count": 76,
     "metadata": {},
     "output_type": "execute_result"
    }
   ],
   "source": [
    "cipher.decoder"
   ]
  }
 ],
 "metadata": {
  "kernelspec": {
   "display_name": "Trading-CORarb6h",
   "language": "python",
   "name": "python3"
  },
  "language_info": {
   "codemirror_mode": {
    "name": "ipython",
    "version": 3
   },
   "file_extension": ".py",
   "mimetype": "text/x-python",
   "name": "python",
   "nbconvert_exporter": "python",
   "pygments_lexer": "ipython3",
   "version": "3.8.10"
  },
  "orig_nbformat": 4
 },
 "nbformat": 4,
 "nbformat_minor": 2
}
