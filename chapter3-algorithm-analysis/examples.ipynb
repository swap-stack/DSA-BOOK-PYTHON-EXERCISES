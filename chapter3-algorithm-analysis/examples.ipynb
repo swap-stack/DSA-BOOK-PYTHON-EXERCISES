{
 "cells": [
  {
   "cell_type": "code",
   "execution_count": 5,
   "metadata": {},
   "outputs": [],
   "source": [
    "from time import time\n",
    "from random import randint\n",
    "\n",
    "timings = []\n",
    "for j in range(10):\n",
    "    i = 0\n",
    "    lim = randint(1000000, 50000000)\n",
    "\n",
    "    start_time = time()\n",
    "    while i < lim:    \n",
    "        i+=1\n",
    "    end_time = time()\n",
    "\n",
    "    elapsed = end_time - start_time\n",
    "    timings.append(elapsed)\n"
   ]
  },
  {
   "cell_type": "code",
   "execution_count": null,
   "metadata": {},
   "outputs": [],
   "source": []
  }
 ],
 "metadata": {
  "kernelspec": {
   "display_name": "Python 3",
   "language": "python",
   "name": "python3"
  },
  "language_info": {
   "codemirror_mode": {
    "name": "ipython",
    "version": 3
   },
   "file_extension": ".py",
   "mimetype": "text/x-python",
   "name": "python",
   "nbconvert_exporter": "python",
   "pygments_lexer": "ipython3",
   "version": "3.8.10"
  },
  "orig_nbformat": 4
 },
 "nbformat": 4,
 "nbformat_minor": 2
}
