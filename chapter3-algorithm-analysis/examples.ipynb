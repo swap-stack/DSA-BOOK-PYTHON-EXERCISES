{
 "cells": [
  {
   "cell_type": "code",
   "execution_count": 5,
   "metadata": {},
   "outputs": [],
   "source": [
    "from time import time\n",
    "from random import randint\n",
    "\n",
    "timings = []\n",
    "for j in range(10):\n",
    "    i = 0\n",
    "    lim = randint(1000000, 50000000)\n",
    "\n",
    "    start_time = time()\n",
    "    while i < lim:    \n",
    "        i+=1\n",
    "    end_time = time()\n",
    "\n",
    "    elapsed = end_time - start_time\n",
    "    timings.append(elapsed)\n"
   ]
  },
  {
   "cell_type": "code",
   "execution_count": null,
   "metadata": {},
   "outputs": [],
   "source": []
  },
  {
   "attachments": {},
   "cell_type": "markdown",
   "metadata": {},
   "source": [
    "Quadratic time algo\n"
   ]
  },
  {
   "cell_type": "code",
   "execution_count": 2,
   "metadata": {},
   "outputs": [
    {
     "data": {
      "text/plain": [
       "[3.0,\n",
       " 3.5,\n",
       " 4.0,\n",
       " 4.5,\n",
       " 4.2,\n",
       " 4.0,\n",
       " 3.7142857142857144,\n",
       " 6.25,\n",
       " 6.111111111111111,\n",
       " 6.1]"
      ]
     },
     "execution_count": 2,
     "metadata": {},
     "output_type": "execute_result"
    }
   ],
   "source": [
    "def prefix_average1(S):\n",
    "    n = len(S)   #one primitive operation meaning constant time\n",
    "\n",
    "    A = [0] * n  #constant no of operations per element and total elements are n so O(n)\n",
    "    for j in range(n):  # #run n times so statements like total= 0 and getting \n",
    "                        # average are run n times, primitive operations proportional to n is done so O(n)\n",
    "        total = 0\n",
    "        for i in range(j+1): # this is executed j + 1 times   -- i is maintained and takes O(n**2) time\n",
    "            total += S[i]       # this is run 1+ 2+ 3+....+ n = n(n+1)/2 so its done in O(n**2) time\n",
    "\n",
    "        A[j] = total / (j + 1)\n",
    "    return A    \n",
    "\n",
    "prefix_average1([3,4,5,6,3,3,2,24,5,6])\n",
    "\n",
    "\n",
    "\n",
    "# running time is sum of the three terms O(n) + O(n**2) + O(n**2)\n"
   ]
  },
  {
   "cell_type": "code",
   "execution_count": 8,
   "metadata": {},
   "outputs": [
    {
     "data": {
      "text/plain": [
       "[0.0, 0.0, 0.0, 0.0, 0.0, 0.0, 0.0, 0.0, 0.0, 0.0]"
      ]
     },
     "execution_count": 8,
     "metadata": {},
     "output_type": "execute_result"
    }
   ],
   "source": [
    "def prefix_average2(S):\n",
    "    n = len(S)   #one primitive operation meaning constant time\n",
    "    A = [0] * n\n",
    "\n",
    "    for j in range(n): \n",
    "        A[j] = sum(S[0:j+1]) / (j+1) # sum takes O(j+1) time \n",
    "\n",
    "    return A    \n",
    "\n",
    "prefix_average2([3,4,5,6,3,3,2,24,5,6])\n",
    "\n",
    "\n",
    "\n",
    "# running time is O(n**2)\n"
   ]
  },
  {
   "attachments": {},
   "cell_type": "markdown",
   "metadata": {},
   "source": [
    "A Linear time algorithm"
   ]
  },
  {
   "cell_type": "code",
   "execution_count": 6,
   "metadata": {},
   "outputs": [
    {
     "data": {
      "text/plain": [
       "[3.0,\n",
       " 3.5,\n",
       " 4.0,\n",
       " 4.5,\n",
       " 4.2,\n",
       " 4.0,\n",
       " 3.7142857142857144,\n",
       " 6.25,\n",
       " 6.111111111111111,\n",
       " 6.1]"
      ]
     },
     "execution_count": 6,
     "metadata": {},
     "output_type": "execute_result"
    }
   ],
   "source": [
    "def prefix_average3(S):\n",
    "    n = len(S)\n",
    "    A = [0] * n\n",
    "    total = 0\n",
    "    for j in range(n):\n",
    "        total += S[j]\n",
    "        A[j] = total / (j+1)\n",
    "    return A\n",
    "\n",
    "prefix_average3([3,4,5,6,3,3,2,24,5,6])\n"
   ]
  }
 ],
 "metadata": {
  "kernelspec": {
   "display_name": "Python 3",
   "language": "python",
   "name": "python3"
  },
  "language_info": {
   "codemirror_mode": {
    "name": "ipython",
    "version": 3
   },
   "file_extension": ".py",
   "mimetype": "text/x-python",
   "name": "python",
   "nbconvert_exporter": "python",
   "pygments_lexer": "ipython3",
   "version": "3.8.10"
  },
  "orig_nbformat": 4
 },
 "nbformat": 4,
 "nbformat_minor": 2
}
