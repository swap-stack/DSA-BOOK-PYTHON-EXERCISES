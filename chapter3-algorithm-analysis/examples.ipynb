{
 "cells": [
  {
   "cell_type": "code",
   "execution_count": 5,
   "metadata": {},
   "outputs": [],
   "source": [
    "from time import time\n",
    "from random import randint\n",
    "\n",
    "timings = []\n",
    "for j in range(10):\n",
    "    i = 0\n",
    "    lim = randint(1000000, 50000000)\n",
    "\n",
    "    start_time = time()\n",
    "    while i < lim:    \n",
    "        i+=1\n",
    "    end_time = time()\n",
    "\n",
    "    elapsed = end_time - start_time\n",
    "    timings.append(elapsed)\n"
   ]
  },
  {
   "cell_type": "code",
   "execution_count": null,
   "metadata": {},
   "outputs": [],
   "source": []
  },
  {
   "attachments": {},
   "cell_type": "markdown",
   "metadata": {},
   "source": [
    "Quadratic time algo\n"
   ]
  },
  {
   "cell_type": "code",
   "execution_count": 2,
   "metadata": {},
   "outputs": [
    {
     "data": {
      "text/plain": [
       "[3.0,\n",
       " 3.5,\n",
       " 4.0,\n",
       " 4.5,\n",
       " 4.2,\n",
       " 4.0,\n",
       " 3.7142857142857144,\n",
       " 6.25,\n",
       " 6.111111111111111,\n",
       " 6.1]"
      ]
     },
     "execution_count": 2,
     "metadata": {},
     "output_type": "execute_result"
    }
   ],
   "source": [
    "def prefix_average1(S):\n",
    "    n = len(S)   #one primitive operation meaning constant time\n",
    "\n",
    "    A = [0] * n  #constant no of operations per element and total elements are n so O(n)\n",
    "    for j in range(n):  # #run n times so statements like total= 0 and getting \n",
    "                        # average are run n times, primitive operations proportional to n is done so O(n)\n",
    "        total = 0\n",
    "        for i in range(j+1): # this is executed j + 1 times   -- i is maintained and takes O(n**2) time\n",
    "            total += S[i]       # this is run 1+ 2+ 3+....+ n = n(n+1)/2 so its done in O(n**2) time\n",
    "\n",
    "        A[j] = total / (j + 1)\n",
    "    return A    \n",
    "\n",
    "prefix_average1([3,4,5,6,3,3,2,24,5,6])\n",
    "\n",
    "\n",
    "\n",
    "# running time is sum of the three terms O(n) + O(n**2) + O(n**2)\n"
   ]
  },
  {
   "cell_type": "code",
   "execution_count": 9,
   "metadata": {},
   "outputs": [
    {
     "data": {
      "text/plain": [
       "[3.0,\n",
       " 3.5,\n",
       " 4.0,\n",
       " 4.5,\n",
       " 4.2,\n",
       " 4.0,\n",
       " 3.7142857142857144,\n",
       " 6.25,\n",
       " 6.111111111111111,\n",
       " 6.1]"
      ]
     },
     "execution_count": 9,
     "metadata": {},
     "output_type": "execute_result"
    }
   ],
   "source": [
    "def prefix_average2(S):\n",
    "    n = len(S)   #one primitive operation meaning constant time\n",
    "    A = [0] * n\n",
    "\n",
    "    for j in range(n): \n",
    "        A[j] = sum(S[0:j+1]) / (j+1) # sum takes O(j+1) time \n",
    "\n",
    "    return A    \n",
    "\n",
    "prefix_average2([3,4,5,6,3,3,2,24,5,6])\n",
    "\n",
    "\n",
    "\n",
    "# running time is O(n**2)\n"
   ]
  },
  {
   "attachments": {},
   "cell_type": "markdown",
   "metadata": {},
   "source": [
    "A Linear time algorithm"
   ]
  },
  {
   "cell_type": "code",
   "execution_count": 6,
   "metadata": {},
   "outputs": [
    {
     "data": {
      "text/plain": [
       "[3.0,\n",
       " 3.5,\n",
       " 4.0,\n",
       " 4.5,\n",
       " 4.2,\n",
       " 4.0,\n",
       " 3.7142857142857144,\n",
       " 6.25,\n",
       " 6.111111111111111,\n",
       " 6.1]"
      ]
     },
     "execution_count": 6,
     "metadata": {},
     "output_type": "execute_result"
    }
   ],
   "source": [
    "def prefix_average3(S):\n",
    "    n = len(S)  # O(1)\n",
    "    A = [0] * n  # O(n)\n",
    "    total = 0  # O(1)\n",
    "    for j in range(n): # maintenance of j is O(n)\n",
    "        total += S[j]  # body is executed n times so O(n) is running time\n",
    "        A[j] = total / (j+1)\n",
    "    return A\n",
    "\n",
    "prefix_average3([3,4,5,6,3,3,2,24,5,6])\n"
   ]
  },
  {
   "attachments": {},
   "cell_type": "markdown",
   "metadata": {},
   "source": [
    "THree way set disjointness\n",
    "\n",
    "basically you have to check if the intersection of Sequence A, B, C is empty \n",
    "\n"
   ]
  },
  {
   "cell_type": "code",
   "execution_count": 11,
   "metadata": {},
   "outputs": [
    {
     "data": {
      "text/plain": [
       "False"
      ]
     },
     "execution_count": 11,
     "metadata": {},
     "output_type": "execute_result"
    }
   ],
   "source": [
    "def disjoint1(A, B, C):\n",
    "    for a in A:\n",
    "        for b in B:\n",
    "            for c in C:\n",
    "                if a == b == c:\n",
    "                    return False\n",
    "    return True\n",
    "\n",
    "\n",
    "# if A, B, C have n elements then the running time of this algo will be O(n**3)\n",
    "\n",
    "disjoint1([4,3,2,1], [9, 6, 5,4], [1, 2, 3, 4])"
   ]
  },
  {
   "cell_type": "code",
   "execution_count": 12,
   "metadata": {},
   "outputs": [
    {
     "data": {
      "text/plain": [
       "False"
      ]
     },
     "execution_count": 12,
     "metadata": {},
     "output_type": "execute_result"
    }
   ],
   "source": [
    "def disjoint2(A, B, C):\n",
    "    for a in A:\n",
    "        for b in B:\n",
    "            if a == b:\n",
    "                for c in C:\n",
    "                    if a == b == c:\n",
    "                        return False\n",
    "    return True\n",
    "\n",
    "\n",
    "# if A, B, C have n elements then the running time of this algo will be O(n**3)\n",
    "\n",
    "disjoint1([4,3,2,1], [9, 6, 5, 4], [1, 2, 3, 4])\n"
   ]
  },
  {
   "attachments": {},
   "cell_type": "markdown",
   "metadata": {},
   "source": [
    "Elemrnt uniqueness \n",
    "we see that given a sequence S with n elements, if all elements are distinct from each other\n"
   ]
  },
  {
   "cell_type": "code",
   "execution_count": 13,
   "metadata": {},
   "outputs": [
    {
     "data": {
      "text/plain": [
       "False"
      ]
     },
     "execution_count": 13,
     "metadata": {},
     "output_type": "execute_result"
    }
   ],
   "source": [
    "def unique1(S):\n",
    "    for j in range(len(S)):\n",
    "        for k in range(j+1, len(S)):\n",
    "            if S[j] == S[k]:\n",
    "                return False\n",
    "    return True\n",
    "\n",
    "unique1([0,7,3,4,3,3,45,])"
   ]
  },
  {
   "attachments": {},
   "cell_type": "markdown",
   "metadata": {},
   "source": [
    "Sorting"
   ]
  },
  {
   "cell_type": "code",
   "execution_count": 14,
   "metadata": {},
   "outputs": [],
   "source": [
    "def unique2(S):\n",
    "    temp = sorted(S)  # worse case runing time is O(nlogn)\n",
    "    for j in range(1, len(temp)): # O(n)\n",
    "        if S[j-1] == S[j]:\n",
    "            return False\n",
    "    return True\n",
    "\n",
    "# hence this runs in O(nlogn) time\n"
   ]
  }
 ],
 "metadata": {
  "kernelspec": {
   "display_name": "Python 3",
   "language": "python",
   "name": "python3"
  },
  "language_info": {
   "codemirror_mode": {
    "name": "ipython",
    "version": 3
   },
   "file_extension": ".py",
   "mimetype": "text/x-python",
   "name": "python",
   "nbconvert_exporter": "python",
   "pygments_lexer": "ipython3",
   "version": "3.8.10"
  },
  "orig_nbformat": 4
 },
 "nbformat": 4,
 "nbformat_minor": 2
}
